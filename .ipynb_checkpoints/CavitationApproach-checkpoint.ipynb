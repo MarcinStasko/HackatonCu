{
 "cells": [
  {
   "cell_type": "code",
   "execution_count": 1,
   "id": "written-throat",
   "metadata": {},
   "outputs": [],
   "source": [
    "from zipfile import ZipFile\n",
    "import pandas as pd\n",
    "# with ZipFile('./Cavitation/cavidation_sample.zip', 'r') as zipObj:\n",
    "#    # Extract all the contents of zip file in different directory\n",
    "#    zipObj.extractall('./Cavitation/sampleData')\n",
    "#    print('File is unzipped in temp folder') \n"
   ]
  },
  {
   "cell_type": "code",
   "execution_count": 2,
   "id": "stuffed-pillow",
   "metadata": {},
   "outputs": [],
   "source": [
    "DATADIR = './Cavitation/sampleData/sample/'"
   ]
  },
  {
   "cell_type": "code",
   "execution_count": 3,
   "id": "front-browse",
   "metadata": {},
   "outputs": [],
   "source": [
    "#data_path = SAMPLE_DIR\n",
    "def SamplePreparation(data_path):\n",
    "    import glob\n",
    "    # Wczytanie pojedynczego pliku\n",
    "    def file_to_dataframe(file):\n",
    "        df = pd.read_csv(file, delimiter = '|', skiprows=3)\n",
    "\n",
    "        # Standaryzacja plików\n",
    "        if len(df.columns[5].split(':')) <= 4:\n",
    "            df = pd.read_csv(file, delimiter = '|', skiprows=5)\n",
    "\n",
    "        #Utworzenie nazw kolumn do pracy\n",
    "        df.columns = ['uncompiledData','operationType','date','time','empty','value','quality']\n",
    "\n",
    "        # OperationType chyba jest nieistotne, więc usuwam. Ale sprzawdz czy na pewno to operationtype i czy mozna\n",
    "        df.drop(columns = ['operationType'], inplace = True)\n",
    "        # to samo z empty\n",
    "        df.drop(columns = ['empty'], inplace = True)\n",
    "\n",
    "        # Przygotowanie danych\n",
    "        df[\"section\"] = df['uncompiledData'].str[:2]\n",
    "        df[\"section\"] = df[\"section\"].astype('category')\n",
    "        df[\"dataType\"] = df['uncompiledData'].str[2]\n",
    "        df[\"dataType\"] = df[\"dataType\"].astype('category')\n",
    "        df[\"machineType\"] = df['uncompiledData'].str[7:12]\n",
    "        df[\"machineType\"] = df[\"machineType\"].astype('category')\n",
    "        df[\"machineId\"] = df['uncompiledData'].str[12:16]\n",
    "        df[\"machineId\"] = df[\"machineId\"].astype('category')\n",
    "        df[\"section2\"] = df['uncompiledData'].str[16]\n",
    "        df[\"section2\"] = df[\"section2\"].astype('category')\n",
    "\n",
    "        # Jeśli otrzymujemy dane, to rozbijamy je na parametr i jednostkę\n",
    "        df.loc[df[\"dataType\"] == \"D\", 'parameter'] = df['uncompiledData'].str[17:28]\n",
    "        df[\"parameter\"] = df[\"parameter\"].astype('category')\n",
    "        df.loc[df[\"dataType\"] == \"D\", 'varType'] = df['uncompiledData'].str[28]\n",
    "        df[\"varType\"] = df[\"varType\"].astype('category')\n",
    "        df.loc[df[\"dataType\"] == \"D\", 'unit'] = df['uncompiledData'].str[29:]\n",
    "        df[\"unit\"] = df[\"unit\"].astype('category')\n",
    "        # Jeśli błąd:\n",
    "        df.loc[df[\"dataType\"] == \"E\", 'error'] = df['uncompiledData'].str[18:-4]\n",
    "\n",
    "        df.drop(columns = ['uncompiledData'], inplace = True)\n",
    "\n",
    "        df[\"datetime\"] = df[\"date\"]+\" \"+df[\"time\"]\n",
    "        df.drop(columns = ['date'], inplace = True)\n",
    "        df.drop(columns = ['time'], inplace = True)\n",
    "        df[\"datetime\"] = pd.to_datetime(df[\"datetime\"].str[:-4], format='%Y-%m-%d %H:%M:%S')\n",
    "\n",
    "\n",
    "        ##df[\"machineId\"].astype('category')\n",
    "        return df[df['quality']==192]\n",
    "\n",
    "    def load_all_files(path = data_path):\n",
    "        # Wczytuję wszystkie pliki z danymi\n",
    "        all_files = glob.glob(path + \"/*.csv\")\n",
    "        all_files.sort(reverse=True)\n",
    "\n",
    "        li = []\n",
    "\n",
    "        for filename in all_files:\n",
    "            df = file_to_dataframe(filename)\n",
    "            li.append(df)\n",
    "        return pd.concat(li, axis=0, ignore_index=True)\n",
    "\n",
    "    df = load_all_files()\n",
    "    df[\"dataType\"] = df[\"dataType\"].astype('category')\n",
    "    df[\"parameter\"] = df[\"parameter\"].astype('category')\n",
    "    df[\"unit\"] = df[\"unit\"].astype('category')\n",
    "    df = df[df['dataType']=='D']\n",
    "    df.info(memory_usage=\"deep\")\n",
    "    df.set_index(['machineId', 'parameter','datetime']).sort_index().head(50)\n",
    "    return df"
   ]
  },
  {
   "cell_type": "code",
   "execution_count": 4,
   "id": "outdoor-identifier",
   "metadata": {},
   "outputs": [
    {
     "name": "stdout",
     "output_type": "stream",
     "text": [
      "<class 'pandas.core.frame.DataFrame'>\n",
      "Int64Index: 13758180 entries, 0 to 13773181\n",
      "Data columns (total 12 columns):\n",
      " #   Column       Dtype         \n",
      "---  ------       -----         \n",
      " 0   value        float64       \n",
      " 1   quality      int64         \n",
      " 2   section      category      \n",
      " 3   dataType     category      \n",
      " 4   machineType  category      \n",
      " 5   machineId    category      \n",
      " 6   section2     category      \n",
      " 7   parameter    category      \n",
      " 8   varType      category      \n",
      " 9   unit         category      \n",
      " 10  error        object        \n",
      " 11  datetime     datetime64[ns]\n",
      "dtypes: category(8), datetime64[ns](1), float64(1), int64(1), object(1)\n",
      "memory usage: 944.7 MB\n"
     ]
    }
   ],
   "source": [
    "df = SamplePreparation(DATADIR)"
   ]
  },
  {
   "cell_type": "code",
   "execution_count": null,
   "id": "subtle-italic",
   "metadata": {},
   "outputs": [],
   "source": [
    "df.to_parquet('cavitest.parquet.gzip',\n",
    "              compression='gzip')\n"
   ]
  },
  {
   "cell_type": "code",
   "execution_count": 5,
   "id": "peripheral-union",
   "metadata": {},
   "outputs": [],
   "source": [
    "CaviColumns=[\n",
    "'ENGRPM_____',\n",
    "'ENGOILT____',\n",
    "'ENGOILP____',\n",
    "'TRNAUT_____'   \n",
    "]"
   ]
  },
  {
   "cell_type": "code",
   "execution_count": 6,
   "id": "solved-hawaiian",
   "metadata": {},
   "outputs": [],
   "source": [
    "# Get Cavitation hypothesis data\n",
    "cavi_df = df.copy()\n",
    "cavi_df = df[df['parameter'].isin(CaviColumns)].reset_index()"
   ]
  },
  {
   "cell_type": "code",
   "execution_count": 7,
   "id": "commercial-builder",
   "metadata": {},
   "outputs": [
    {
     "name": "stdout",
     "output_type": "stream",
     "text": [
      "False    2550740\n",
      "True       20679\n",
      "Name: datetime, dtype: int64\n"
     ]
    }
   ],
   "source": [
    "start_date = '2021-02-20 00:00:01'\n",
    "end_date = '2021-02-20 23:59:59'\n",
    "mask = (cavi_df['datetime'] > start_date) & (cavi_df['datetime'] <= end_date)\n",
    "print(mask.value_counts())\n",
    "\n",
    "cavi_df_failure = cavi_df.loc[mask]"
   ]
  },
  {
   "cell_type": "code",
   "execution_count": 8,
   "id": "powerful-marker",
   "metadata": {},
   "outputs": [],
   "source": [
    "cavi_df_ok = cavi_df.loc[~mask]"
   ]
  },
  {
   "cell_type": "code",
   "execution_count": 9,
   "id": "laughing-impression",
   "metadata": {},
   "outputs": [],
   "source": [
    "def hypothesis_test(df,columns,failure_start_date,failure_end_date):\n",
    "    cavi_df = df[df['parameter'].isin(columns)].reset_index()\n",
    "    start_date = '2021-02-20 00:00:01'\n",
    "    end_date = '2021-02-20 23:59:59'\n",
    "    mask = (cavi_df['datetime'] > start_date) & (cavi_df['datetime'] <= end_date)\n",
    "    print(mask.value_counts())\n",
    "    \n",
    "    #Event 1 = failure\n",
    "    #Event 0 = OK\n",
    "    cavi_df_failure = cavi_df.loc[mask]\n",
    "    cavi_df_failure['Event'] = 1\n",
    "    cavi_df_ok = cavi_df.loc[~mask]\n",
    "    cavi_df_ok['Event'] = 0\n",
    "    return cavi_df_ok,cavi_df_failure"
   ]
  },
  {
   "cell_type": "code",
   "execution_count": 10,
   "id": "sustained-viking",
   "metadata": {},
   "outputs": [
    {
     "name": "stdout",
     "output_type": "stream",
     "text": [
      "False    2550740\n",
      "True       20679\n",
      "Name: datetime, dtype: int64\n"
     ]
    },
    {
     "name": "stderr",
     "output_type": "stream",
     "text": [
      "/opt/conda/lib/python3.7/site-packages/ipykernel_launcher.py:11: SettingWithCopyWarning: \n",
      "A value is trying to be set on a copy of a slice from a DataFrame.\n",
      "Try using .loc[row_indexer,col_indexer] = value instead\n",
      "\n",
      "See the caveats in the documentation: https://pandas.pydata.org/pandas-docs/stable/user_guide/indexing.html#returning-a-view-versus-a-copy\n",
      "  # This is added back by InteractiveShellApp.init_path()\n",
      "/opt/conda/lib/python3.7/site-packages/ipykernel_launcher.py:13: SettingWithCopyWarning: \n",
      "A value is trying to be set on a copy of a slice from a DataFrame.\n",
      "Try using .loc[row_indexer,col_indexer] = value instead\n",
      "\n",
      "See the caveats in the documentation: https://pandas.pydata.org/pandas-docs/stable/user_guide/indexing.html#returning-a-view-versus-a-copy\n",
      "  del sys.path[0]\n"
     ]
    }
   ],
   "source": [
    "ok_df, ng_df = hypothesis_test(cavi_df,CaviColumns,start_date,end_date)\n",
    "COLS_TO_KEEP=['parameter','value','Event']"
   ]
  },
  {
   "cell_type": "code",
   "execution_count": 11,
   "id": "centered-handy",
   "metadata": {},
   "outputs": [],
   "source": [
    "all_df = pd.concat([ok_df, ng_df], axis=0)"
   ]
  },
  {
   "cell_type": "code",
   "execution_count": 12,
   "id": "automatic-soundtrack",
   "metadata": {},
   "outputs": [],
   "source": [
    "to_analysis = all_df[COLS_TO_KEEP]"
   ]
  },
  {
   "cell_type": "code",
   "execution_count": 15,
   "id": "respiratory-belfast",
   "metadata": {},
   "outputs": [
    {
     "data": {
      "text/plain": [
       "'Cavitest.html'"
      ]
     },
     "execution_count": 15,
     "metadata": {},
     "output_type": "execute_result"
    }
   ],
   "source": [
    "import plotly.express as px\n",
    "import plotly.offline as pyo \n",
    "df = px.data.tips()\n",
    "fig = px.box(to_analysis, x=\"parameter\", y=\"value\", color=\"Event\", notched=True)\n",
    "pyo.plot(fig,filename='Cavitest.html') "
   ]
  },
  {
   "cell_type": "code",
   "execution_count": null,
   "id": "stupid-harbor",
   "metadata": {},
   "outputs": [],
   "source": []
  }
 ],
 "metadata": {
  "kernelspec": {
   "display_name": "Python 3",
   "language": "python",
   "name": "python3"
  },
  "language_info": {
   "codemirror_mode": {
    "name": "ipython",
    "version": 3
   },
   "file_extension": ".py",
   "mimetype": "text/x-python",
   "name": "python",
   "nbconvert_exporter": "python",
   "pygments_lexer": "ipython3",
   "version": "3.7.10"
  }
 },
 "nbformat": 4,
 "nbformat_minor": 5
}
